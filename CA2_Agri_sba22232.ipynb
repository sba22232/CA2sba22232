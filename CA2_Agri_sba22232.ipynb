{
 "cells": [
  {
   "cell_type": "markdown",
   "id": "6721086d",
   "metadata": {},
   "source": [
    "# CA2 AgriData Assignment 2022/23 for sba22232"
   ]
  },
  {
   "cell_type": "markdown",
   "id": "1d1149fb",
   "metadata": {},
   "source": [
    "The datasets I am going to use are from The food and agricultural Organisation (FAO). The food and agricultural  trade dataset is collected, processed and disseminated by FAO according to the standard International Merchandise Trade Statistics (IMTS) Methodology. The data is mainly provided by UNSD, Eurostat, and other national authorities as needed. This source data is checked for outliers, trade partner data is used for non-reporting countries or missing cells, and data on food aid is added to take into account total cross-border trade flows. The trade database includes the following variables: export quantity, export value, import quantity, and import value. The trade database includes all food and agricultural products imported/exported annually by all the countries in the world.\n",
    "\n",
    "The data is provided through wwww.fao.org and the content on the FAO website is protected by copyright. To ensure wide dissemination of its information, FAO is committed to making its content freely available and encourages the use, reproduction and dissemination of the text, multimedia and data presented. The use of publications and documents available in the FAO Document Repository, is governed by an Open Access policy. \n",
    "\n",
    "Specific statistical databases are covered by the Open Data Licensing Policy, and governed by the Statistical Databases Terms of Use.\n",
    "\n",
    "All other content on the FAO website (except where otherwise indicated), may be copied, printed and downloaded for private study, research and teaching purposes, and for use in non-commercial products or services, provided that appropriate acknowledgement of FAO as the source and copyright holder is given and that FAO's endorsement of users' views, products or services is not stated or implied in any way. FAO encourages unrestricted use of news releases provided on the FAO website; no formal permission is required to reproduce these materials. "
   ]
  },
  {
   "cell_type": "markdown",
   "id": "cb16d5bb",
   "metadata": {},
   "source": [
    "Going to import the libaries I plan on using through my assignment first - \n",
    "- Pandas for the Exploratory Data analysis\n",
    "- Numpy for any numerical calculations that i will use\n",
    "- Seaborn & pyplot from the Matplotlib Libary for my visualisations of the data"
   ]
  },
  {
   "cell_type": "code",
   "execution_count": 1,
   "id": "915cc321",
   "metadata": {},
   "outputs": [],
   "source": [
    "import pandas as pd\n",
    "import numpy as np\n",
    "import seaborn as sns\n",
    "import matplotlib.pyplot as plt"
   ]
  },
  {
   "cell_type": "markdown",
   "id": "becaafca",
   "metadata": {},
   "source": [
    "### My first dataset is the Dairy production volume data for each country in the EU from 1961 to 2019\n",
    "#### My naming choice for this dataframe is based on Dairy Production so \"dprod\""
   ]
  },
  {
   "cell_type": "code",
   "execution_count": 3,
   "id": "f761c898",
   "metadata": {},
   "outputs": [],
   "source": [
    "dprod = pd.read_csv('FAOSTAT_data_en_12-17-2022.csv')"
   ]
  },
  {
   "cell_type": "markdown",
   "id": "40d9ead0",
   "metadata": {},
   "source": [
    "### My second dataset is the Dairy import, export and Value data for each country in the EU from 2010 to 2020\n",
    "#### As with above my naming choice for this dataframe is based on Dairy Production so \"dprod\""
   ]
  },
  {
   "cell_type": "code",
   "execution_count": null,
   "id": "a0a61b12",
   "metadata": {},
   "outputs": [],
   "source": [
    "diev = pd.read_csv('FAOSTAT_data_en_12-17-2022-1.csv')"
   ]
  }
 ],
 "metadata": {
  "kernelspec": {
   "display_name": "Python 3 (ipykernel)",
   "language": "python",
   "name": "python3"
  },
  "language_info": {
   "codemirror_mode": {
    "name": "ipython",
    "version": 3
   },
   "file_extension": ".py",
   "mimetype": "text/x-python",
   "name": "python",
   "nbconvert_exporter": "python",
   "pygments_lexer": "ipython3",
   "version": "3.9.13"
  }
 },
 "nbformat": 4,
 "nbformat_minor": 5
}
